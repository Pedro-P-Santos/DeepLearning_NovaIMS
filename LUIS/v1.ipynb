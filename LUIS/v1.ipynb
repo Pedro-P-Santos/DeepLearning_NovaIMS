{
 "cells": [
  {
   "cell_type": "markdown",
   "metadata": {},
   "source": [
    "# 1. Setup"
   ]
  },
  {
   "cell_type": "code",
   "execution_count": 1,
   "metadata": {},
   "outputs": [],
   "source": [
    "import tensorflow as tf\n",
    "import pandas as pd\n",
    "import os"
   ]
  },
  {
   "cell_type": "code",
   "execution_count": 2,
   "metadata": {},
   "outputs": [],
   "source": [
    "metadata = pd.read_csv(\"C:/Users/luisp/OneDrive/Mestrado/1ano/2sem/Deep Learning (DL)/Project/rare_species 1/metadata.csv\")"
   ]
  },
  {
   "cell_type": "code",
   "execution_count": 3,
   "metadata": {},
   "outputs": [
    {
     "data": {
      "application/vnd.microsoft.datawrangler.viewer.v0+json": {
       "columns": [
        {
         "name": "index",
         "rawType": "int64",
         "type": "integer"
        },
        {
         "name": "rare_species_id",
         "rawType": "object",
         "type": "string"
        },
        {
         "name": "eol_content_id",
         "rawType": "int64",
         "type": "integer"
        },
        {
         "name": "eol_page_id",
         "rawType": "int64",
         "type": "integer"
        },
        {
         "name": "kingdom",
         "rawType": "object",
         "type": "string"
        },
        {
         "name": "phylum",
         "rawType": "object",
         "type": "string"
        },
        {
         "name": "family",
         "rawType": "object",
         "type": "string"
        },
        {
         "name": "file_path",
         "rawType": "object",
         "type": "string"
        }
       ],
       "conversionMethod": "pd.DataFrame",
       "ref": "7f8fac78-e704-45c5-8433-fdf24b1ec4da",
       "rows": [
        [
         "0",
         "75fd91cb-2881-41cd-88e6-de451e8b60e2",
         "12853737",
         "449393",
         "animalia",
         "mollusca",
         "unionidae",
         "mollusca_unionidae/12853737_449393_eol-full-size-copy.jpg"
        ],
        [
         "1",
         "28c508bc-63ff-4e60-9c8f-1934367e1528",
         "20969394",
         "793083",
         "animalia",
         "chordata",
         "geoemydidae",
         "chordata_geoemydidae/20969394_793083_eol-full-size-copy.jpg"
        ],
        [
         "2",
         "00372441-588c-4af8-9665-29bee20822c0",
         "28895411",
         "319982",
         "animalia",
         "chordata",
         "cryptobranchidae",
         "chordata_cryptobranchidae/28895411_319982_eol-full-size-copy.jpg"
        ],
        [
         "3",
         "29cc6040-6af2-49ee-86ec-ab7d89793828",
         "29658536",
         "45510188",
         "animalia",
         "chordata",
         "turdidae",
         "chordata_turdidae/29658536_45510188_eol-full-size-copy.jpg"
        ],
        [
         "4",
         "94004bff-3a33-4758-8125-bf72e6e57eab",
         "21252576",
         "7250886",
         "animalia",
         "chordata",
         "indriidae",
         "chordata_indriidae/21252576_7250886_eol-full-size-copy.jpg"
        ],
        [
         "5",
         "dc48f2ce-4feb-4ef7-b2a2-c3c3f42bf19b",
         "28657539",
         "491832",
         "animalia",
         "arthropoda",
         "formicidae",
         "arthropoda_formicidae/28657539_491832_eol-full-size-copy.jpg"
        ],
        [
         "6",
         "3d881320-8ba8-4580-a72c-0e7ab116b664",
         "29548208",
         "47043290",
         "animalia",
         "chordata",
         "fringillidae",
         "chordata_fringillidae/29548208_47043290_eol-full-size-copy.jpg"
        ],
        [
         "7",
         "7faca96a-54e6-4c80-b9e4-77ab126d904a",
         "21232818",
         "1033999",
         "animalia",
         "arthropoda",
         "gomphidae",
         "arthropoda_gomphidae/21232818_1033999_eol-full-size-copy.jpg"
        ],
        [
         "8",
         "9f89ecab-aabd-41a4-b5b4-8ce106d85959",
         "20315204",
         "46561012",
         "animalia",
         "chordata",
         "myliobatidae",
         "chordata_myliobatidae/20315204_46561012_eol-full-size-copy.jpg"
        ],
        [
         "9",
         "b6ec7a70-c470-4ede-8930-05844e1efd2e",
         "20124498",
         "46570095",
         "animalia",
         "chordata",
         "pleuronectidae",
         "chordata_pleuronectidae/20124498_46570095_eol-full-size-copy.jpg"
        ],
        [
         "10",
         "309ead66-8bb3-4043-a372-3bf353ab328c",
         "28209894",
         "45510504",
         "animalia",
         "chordata",
         "nesospingidae",
         "chordata_nesospingidae/28209894_45510504_eol-full-size-copy.jpg"
        ],
        [
         "11",
         "a6ca8369-a94f-416d-8ad4-d04d6473c611",
         "29369182",
         "323726",
         "animalia",
         "chordata",
         "dasyuridae",
         "chordata_dasyuridae/29369182_323726_eol-full-size-copy.jpg"
        ],
        [
         "12",
         "50beb29b-c7f0-474c-8562-dce68b035708",
         "30053716",
         "912805",
         "animalia",
         "chordata",
         "accipitridae",
         "chordata_accipitridae/30053716_912805_eol-full-size-copy.jpg"
        ],
        [
         "13",
         "fa538ef6-0709-4c39-a85b-12d3e9f7cd09",
         "28264284",
         "46561012",
         "animalia",
         "chordata",
         "myliobatidae",
         "chordata_myliobatidae/28264284_46561012_eol-full-size-copy.jpg"
        ],
        [
         "14",
         "86f66e77-6967-4559-9cae-50652872fd0a",
         "20599608",
         "45513966",
         "animalia",
         "chordata",
         "glareolidae",
         "chordata_glareolidae/20599608_45513966_eol-full-size-copy.jpg"
        ],
        [
         "15",
         "a8e04499-9757-408f-80cd-4e508dc3b8f2",
         "22662179",
         "45511624",
         "animalia",
         "chordata",
         "trogonidae",
         "chordata_trogonidae/22662179_45511624_eol-full-size-copy.jpg"
        ],
        [
         "16",
         "e09db146-4447-4863-a0cf-23b85c4cf293",
         "29898060",
         "46559814",
         "animalia",
         "chordata",
         "carcharhinidae",
         "chordata_carcharhinidae/29898060_46559814_eol-full-size-copy.jpg"
        ],
        [
         "17",
         "0b31111b-ab31-45a2-b547-0f0a8f212f0a",
         "21780197",
         "45511494",
         "animalia",
         "chordata",
         "diomedeidae",
         "chordata_diomedeidae/21780197_45511494_eol-full-size-copy.jpg"
        ],
        [
         "18",
         "7a7d7140-b981-4ec5-8a62-34d0d6a54dae",
         "29297287",
         "794627",
         "animalia",
         "chordata",
         "gavialidae",
         "chordata_gavialidae/29297287_794627_eol-full-size-copy.jpg"
        ],
        [
         "19",
         "1654b5d4-1bca-405d-9b83-b4aa569316fb",
         "22743125",
         "1048224",
         "animalia",
         "chordata",
         "salamandridae",
         "chordata_salamandridae/22743125_1048224_eol-full-size-copy.jpg"
        ],
        [
         "20",
         "b0a7fc8a-07d7-4c79-8745-7b5bc3498e3e",
         "29581893",
         "454868",
         "animalia",
         "chordata",
         "iguanidae",
         "chordata_iguanidae/29581893_454868_eol-full-size-copy.jpg"
        ],
        [
         "21",
         "e2e9129f-7c21-41df-b0fe-878476fd7615",
         "2747302",
         "46559311",
         "animalia",
         "chordata",
         "delphinidae",
         "chordata_delphinidae/2747302_46559311_eol-full-size-copy.jpg"
        ],
        [
         "22",
         "3387dc4a-4061-4151-ae68-b2fd9bf12d26",
         "29874180",
         "791137",
         "animalia",
         "chordata",
         "gekkonidae",
         "chordata_gekkonidae/29874180_791137_eol-full-size-copy.jpg"
        ],
        [
         "23",
         "293b5a16-16f3-42c5-b7e8-0f01869551f4",
         "22222320",
         "45511297",
         "animalia",
         "chordata",
         "procellariidae",
         "chordata_procellariidae/22222320_45511297_eol-full-size-copy.jpg"
        ],
        [
         "24",
         "bbb9891a-1d8d-4a61-ba5e-4a8f7c7389db",
         "29345770",
         "324407",
         "animalia",
         "chordata",
         "daubentoniidae",
         "chordata_daubentoniidae/29345770_324407_eol-full-size-copy.jpg"
        ],
        [
         "25",
         "cff23458-3745-43cd-9163-7f9ab5176724",
         "20945955",
         "919473",
         "animalia",
         "chordata",
         "pittidae",
         "chordata_pittidae/20945955_919473_eol-full-size-copy.jpg"
        ],
        [
         "26",
         "84da5f6f-8847-4350-a208-f1adb38a6d97",
         "22627527",
         "323929",
         "animalia",
         "chordata",
         "aotidae",
         "chordata_aotidae/22627527_323929_eol-full-size-copy.jpg"
        ],
        [
         "27",
         "16b767da-7b35-4f76-8ef7-0835148b760f",
         "29911923",
         "132324",
         "animalia",
         "arthropoda",
         "platystictidae",
         "arthropoda_platystictidae/29911923_132324_eol-full-size-copy.jpg"
        ],
        [
         "28",
         "ad66d8cb-91f2-43ff-af1f-75ab38d2dd28",
         "24577108",
         "46579700",
         "animalia",
         "chordata",
         "serranidae",
         "chordata_serranidae/24577108_46579700_eol-full-size-copy.jpg"
        ],
        [
         "29",
         "6c362f85-2fc8-4b18-9272-0f7e76ede784",
         "29543412",
         "1018932",
         "animalia",
         "chordata",
         "rhacophoridae",
         "chordata_rhacophoridae/29543412_1018932_eol-full-size-copy.jpg"
        ],
        [
         "30",
         "f2eb1d00-8760-4803-bf7f-431e0faf6a74",
         "28854892",
         "45516469",
         "animalia",
         "chordata",
         "alcedinidae",
         "chordata_alcedinidae/28854892_45516469_eol-full-size-copy.jpg"
        ],
        [
         "31",
         "9d8e3640-cdd5-4e04-8e81-4ba4f27dadaa",
         "21390936",
         "1019250",
         "animalia",
         "chordata",
         "bufonidae",
         "chordata_bufonidae/21390936_1019250_eol-full-size-copy.jpg"
        ],
        [
         "32",
         "4fd8afa3-43ca-41fb-be5e-65b576a38f91",
         "28672122",
         "795859",
         "animalia",
         "chordata",
         "dactyloidae",
         "chordata_dactyloidae/28672122_795859_eol-full-size-copy.jpg"
        ],
        [
         "33",
         "32e472b8-722a-4983-8fe5-a0605e330c1b",
         "29856158",
         "485420",
         "animalia",
         "arthropoda",
         "formicidae",
         "arthropoda_formicidae/29856158_485420_eol-full-size-copy.jpg"
        ],
        [
         "34",
         "3a3af0b2-5e00-472c-909a-f3c82d6886da",
         "20803069",
         "791461",
         "animalia",
         "chordata",
         "tropiduridae",
         "chordata_tropiduridae/20803069_791461_eol-full-size-copy.jpg"
        ],
        [
         "35",
         "50aa128d-edfd-4b1e-9384-615d154819d7",
         "22595474",
         "2984563",
         "animalia",
         "echinodermata",
         "stichopodidae",
         "echinodermata_stichopodidae/22595474_2984563_eol-full-size-copy.jpg"
        ],
        [
         "36",
         "c6a48abf-92eb-4caf-aa53-602e2fac54f5",
         "28935290",
         "45509477",
         "animalia",
         "chordata",
         "caprimulgidae",
         "chordata_caprimulgidae/28935290_45509477_eol-full-size-copy.jpg"
        ],
        [
         "37",
         "0d54f9fb-1f40-49e7-8405-b9b9339f883b",
         "22521686",
         "128466",
         "animalia",
         "chordata",
         "cercopithecidae",
         "chordata_cercopithecidae/22521686_128466_eol-full-size-copy.jpg"
        ],
        [
         "38",
         "ef7f6c7d-b39d-4e42-9ee4-e055de66e700",
         "21443709",
         "1048403",
         "animalia",
         "chordata",
         "bucerotidae",
         "chordata_bucerotidae/21443709_1048403_eol-full-size-copy.jpg"
        ],
        [
         "39",
         "eeaf84a1-a280-4685-8070-66a844f5550a",
         "28414622",
         "45276545",
         "animalia",
         "cnidaria",
         "pocilloporidae",
         "cnidaria_pocilloporidae/28414622_45276545_eol-full-size-copy.jpg"
        ],
        [
         "40",
         "b410ac82-151e-42e5-9d54-7cbd4f2580a8",
         "29632514",
         "311549",
         "animalia",
         "chordata",
         "sciuridae",
         "chordata_sciuridae/29632514_311549_eol-full-size-copy.jpg"
        ],
        [
         "41",
         "9ff8af91-f167-47c3-b5b3-f2d5af849a7f",
         "29935039",
         "46582216",
         "animalia",
         "chordata",
         "latimeriidae",
         "chordata_latimeriidae/29935039_46582216_eol-full-size-copy.jpg"
        ],
        [
         "42",
         "bab78f91-457f-493e-b4c7-5198b767aa1a",
         "29321323",
         "326355",
         "animalia",
         "chordata",
         "ctenomyidae",
         "chordata_ctenomyidae/29321323_326355_eol-full-size-copy.jpg"
        ],
        [
         "43",
         "41f90167-9fb7-4c9c-b9cc-d47a4a3e4875",
         "29897341",
         "328017",
         "animalia",
         "chordata",
         "mustelidae",
         "chordata_mustelidae/29897341_328017_eol-full-size-copy.jpg"
        ],
        [
         "44",
         "692d4cd1-e944-44af-a855-c7bfc0c5473f",
         "20080363",
         "46579618",
         "animalia",
         "chordata",
         "serranidae",
         "chordata_serranidae/20080363_46579618_eol-full-size-copy.jpg"
        ],
        [
         "45",
         "3fe2162b-aca0-400c-854b-b097b46f5457",
         "22595469",
         "2984563",
         "animalia",
         "echinodermata",
         "stichopodidae",
         "echinodermata_stichopodidae/22595469_2984563_eol-full-size-copy.jpg"
        ],
        [
         "46",
         "d95e441d-0689-4637-b1c5-5d98755546eb",
         "28332113",
         "45510585",
         "animalia",
         "chordata",
         "anatidae",
         "chordata_anatidae/28332113_45510585_eol-full-size-copy.jpg"
        ],
        [
         "47",
         "8511cb36-ea18-419a-b938-e6316e1855d4",
         "28327228",
         "45276972",
         "animalia",
         "cnidaria",
         "euphylliidae",
         "cnidaria_euphylliidae/28327228_45276972_eol-full-size-copy.jpg"
        ],
        [
         "48",
         "ee67ee78-9052-4008-9c93-038f25e534e8",
         "22501893",
         "46561008",
         "animalia",
         "chordata",
         "myliobatidae",
         "chordata_myliobatidae/22501893_46561008_eol-full-size-copy.jpg"
        ],
        [
         "49",
         "621034f9-e6bd-46ac-ba76-8f5a50b21748",
         "28882329",
         "1049111",
         "animalia",
         "chordata",
         "charadriidae",
         "chordata_charadriidae/28882329_1049111_eol-full-size-copy.jpg"
        ]
       ],
       "shape": {
        "columns": 7,
        "rows": 11983
       }
      },
      "text/html": [
       "<div>\n",
       "<style scoped>\n",
       "    .dataframe tbody tr th:only-of-type {\n",
       "        vertical-align: middle;\n",
       "    }\n",
       "\n",
       "    .dataframe tbody tr th {\n",
       "        vertical-align: top;\n",
       "    }\n",
       "\n",
       "    .dataframe thead th {\n",
       "        text-align: right;\n",
       "    }\n",
       "</style>\n",
       "<table border=\"1\" class=\"dataframe\">\n",
       "  <thead>\n",
       "    <tr style=\"text-align: right;\">\n",
       "      <th></th>\n",
       "      <th>rare_species_id</th>\n",
       "      <th>eol_content_id</th>\n",
       "      <th>eol_page_id</th>\n",
       "      <th>kingdom</th>\n",
       "      <th>phylum</th>\n",
       "      <th>family</th>\n",
       "      <th>file_path</th>\n",
       "    </tr>\n",
       "  </thead>\n",
       "  <tbody>\n",
       "    <tr>\n",
       "      <th>0</th>\n",
       "      <td>75fd91cb-2881-41cd-88e6-de451e8b60e2</td>\n",
       "      <td>12853737</td>\n",
       "      <td>449393</td>\n",
       "      <td>animalia</td>\n",
       "      <td>mollusca</td>\n",
       "      <td>unionidae</td>\n",
       "      <td>mollusca_unionidae/12853737_449393_eol-full-si...</td>\n",
       "    </tr>\n",
       "    <tr>\n",
       "      <th>1</th>\n",
       "      <td>28c508bc-63ff-4e60-9c8f-1934367e1528</td>\n",
       "      <td>20969394</td>\n",
       "      <td>793083</td>\n",
       "      <td>animalia</td>\n",
       "      <td>chordata</td>\n",
       "      <td>geoemydidae</td>\n",
       "      <td>chordata_geoemydidae/20969394_793083_eol-full-...</td>\n",
       "    </tr>\n",
       "    <tr>\n",
       "      <th>2</th>\n",
       "      <td>00372441-588c-4af8-9665-29bee20822c0</td>\n",
       "      <td>28895411</td>\n",
       "      <td>319982</td>\n",
       "      <td>animalia</td>\n",
       "      <td>chordata</td>\n",
       "      <td>cryptobranchidae</td>\n",
       "      <td>chordata_cryptobranchidae/28895411_319982_eol-...</td>\n",
       "    </tr>\n",
       "    <tr>\n",
       "      <th>3</th>\n",
       "      <td>29cc6040-6af2-49ee-86ec-ab7d89793828</td>\n",
       "      <td>29658536</td>\n",
       "      <td>45510188</td>\n",
       "      <td>animalia</td>\n",
       "      <td>chordata</td>\n",
       "      <td>turdidae</td>\n",
       "      <td>chordata_turdidae/29658536_45510188_eol-full-s...</td>\n",
       "    </tr>\n",
       "    <tr>\n",
       "      <th>4</th>\n",
       "      <td>94004bff-3a33-4758-8125-bf72e6e57eab</td>\n",
       "      <td>21252576</td>\n",
       "      <td>7250886</td>\n",
       "      <td>animalia</td>\n",
       "      <td>chordata</td>\n",
       "      <td>indriidae</td>\n",
       "      <td>chordata_indriidae/21252576_7250886_eol-full-s...</td>\n",
       "    </tr>\n",
       "    <tr>\n",
       "      <th>...</th>\n",
       "      <td>...</td>\n",
       "      <td>...</td>\n",
       "      <td>...</td>\n",
       "      <td>...</td>\n",
       "      <td>...</td>\n",
       "      <td>...</td>\n",
       "      <td>...</td>\n",
       "    </tr>\n",
       "    <tr>\n",
       "      <th>11978</th>\n",
       "      <td>1fa96ea5-32fa-4a25-b8d2-fa99f6e2cb89</td>\n",
       "      <td>29734618</td>\n",
       "      <td>1011315</td>\n",
       "      <td>animalia</td>\n",
       "      <td>chordata</td>\n",
       "      <td>leporidae</td>\n",
       "      <td>chordata_leporidae/29734618_1011315_eol-full-s...</td>\n",
       "    </tr>\n",
       "    <tr>\n",
       "      <th>11979</th>\n",
       "      <td>628bf2b4-6ecc-4017-a8e6-4306849e0cfc</td>\n",
       "      <td>29972861</td>\n",
       "      <td>1056842</td>\n",
       "      <td>animalia</td>\n",
       "      <td>chordata</td>\n",
       "      <td>emydidae</td>\n",
       "      <td>chordata_emydidae/29972861_1056842_eol-full-si...</td>\n",
       "    </tr>\n",
       "    <tr>\n",
       "      <th>11980</th>\n",
       "      <td>0ecfdec9-b1cd-4d43-96fc-2f8889ec1ad9</td>\n",
       "      <td>30134195</td>\n",
       "      <td>52572074</td>\n",
       "      <td>animalia</td>\n",
       "      <td>chordata</td>\n",
       "      <td>dasyatidae</td>\n",
       "      <td>chordata_dasyatidae/30134195_52572074_eol-full...</td>\n",
       "    </tr>\n",
       "    <tr>\n",
       "      <th>11981</th>\n",
       "      <td>27fdb1e9-c5fb-459a-8b6a-6fb222b1c512</td>\n",
       "      <td>9474963</td>\n",
       "      <td>46559139</td>\n",
       "      <td>animalia</td>\n",
       "      <td>chordata</td>\n",
       "      <td>mustelidae</td>\n",
       "      <td>chordata_mustelidae/9474963_46559139_eol-full-...</td>\n",
       "    </tr>\n",
       "    <tr>\n",
       "      <th>11982</th>\n",
       "      <td>54894a59-151f-4814-ac32-3a336841e58e</td>\n",
       "      <td>9465817</td>\n",
       "      <td>326525</td>\n",
       "      <td>animalia</td>\n",
       "      <td>chordata</td>\n",
       "      <td>lemuridae</td>\n",
       "      <td>chordata_lemuridae/9465817_326525_eol-full-siz...</td>\n",
       "    </tr>\n",
       "  </tbody>\n",
       "</table>\n",
       "<p>11983 rows × 7 columns</p>\n",
       "</div>"
      ],
      "text/plain": [
       "                            rare_species_id  eol_content_id  eol_page_id  \\\n",
       "0      75fd91cb-2881-41cd-88e6-de451e8b60e2        12853737       449393   \n",
       "1      28c508bc-63ff-4e60-9c8f-1934367e1528        20969394       793083   \n",
       "2      00372441-588c-4af8-9665-29bee20822c0        28895411       319982   \n",
       "3      29cc6040-6af2-49ee-86ec-ab7d89793828        29658536     45510188   \n",
       "4      94004bff-3a33-4758-8125-bf72e6e57eab        21252576      7250886   \n",
       "...                                     ...             ...          ...   \n",
       "11978  1fa96ea5-32fa-4a25-b8d2-fa99f6e2cb89        29734618      1011315   \n",
       "11979  628bf2b4-6ecc-4017-a8e6-4306849e0cfc        29972861      1056842   \n",
       "11980  0ecfdec9-b1cd-4d43-96fc-2f8889ec1ad9        30134195     52572074   \n",
       "11981  27fdb1e9-c5fb-459a-8b6a-6fb222b1c512         9474963     46559139   \n",
       "11982  54894a59-151f-4814-ac32-3a336841e58e         9465817       326525   \n",
       "\n",
       "        kingdom    phylum            family  \\\n",
       "0      animalia  mollusca         unionidae   \n",
       "1      animalia  chordata       geoemydidae   \n",
       "2      animalia  chordata  cryptobranchidae   \n",
       "3      animalia  chordata          turdidae   \n",
       "4      animalia  chordata         indriidae   \n",
       "...         ...       ...               ...   \n",
       "11978  animalia  chordata         leporidae   \n",
       "11979  animalia  chordata          emydidae   \n",
       "11980  animalia  chordata        dasyatidae   \n",
       "11981  animalia  chordata        mustelidae   \n",
       "11982  animalia  chordata         lemuridae   \n",
       "\n",
       "                                               file_path  \n",
       "0      mollusca_unionidae/12853737_449393_eol-full-si...  \n",
       "1      chordata_geoemydidae/20969394_793083_eol-full-...  \n",
       "2      chordata_cryptobranchidae/28895411_319982_eol-...  \n",
       "3      chordata_turdidae/29658536_45510188_eol-full-s...  \n",
       "4      chordata_indriidae/21252576_7250886_eol-full-s...  \n",
       "...                                                  ...  \n",
       "11978  chordata_leporidae/29734618_1011315_eol-full-s...  \n",
       "11979  chordata_emydidae/29972861_1056842_eol-full-si...  \n",
       "11980  chordata_dasyatidae/30134195_52572074_eol-full...  \n",
       "11981  chordata_mustelidae/9474963_46559139_eol-full-...  \n",
       "11982  chordata_lemuridae/9465817_326525_eol-full-siz...  \n",
       "\n",
       "[11983 rows x 7 columns]"
      ]
     },
     "execution_count": 3,
     "metadata": {},
     "output_type": "execute_result"
    }
   ],
   "source": [
    "metadata"
   ]
  },
  {
   "cell_type": "code",
   "execution_count": 4,
   "metadata": {},
   "outputs": [
    {
     "data": {
      "text/plain": [
       "(11983, 7)"
      ]
     },
     "execution_count": 4,
     "metadata": {},
     "output_type": "execute_result"
    }
   ],
   "source": [
    "metadata.shape"
   ]
  },
  {
   "cell_type": "code",
   "execution_count": 5,
   "metadata": {},
   "outputs": [
    {
     "data": {
      "text/plain": [
       "Index(['rare_species_id', 'eol_content_id', 'eol_page_id', 'kingdom', 'phylum',\n",
       "       'family', 'file_path'],\n",
       "      dtype='object')"
      ]
     },
     "execution_count": 5,
     "metadata": {},
     "output_type": "execute_result"
    }
   ],
   "source": [
    "metadata.columns"
   ]
  },
  {
   "cell_type": "code",
   "execution_count": 6,
   "metadata": {},
   "outputs": [
    {
     "data": {
      "text/plain": [
       "202"
      ]
     },
     "execution_count": 6,
     "metadata": {},
     "output_type": "execute_result"
    }
   ],
   "source": [
    "# Checking the different numbers of families that exist\n",
    "len(metadata[\"family\"].unique())"
   ]
  },
  {
   "cell_type": "code",
   "execution_count": 7,
   "metadata": {},
   "outputs": [],
   "source": [
    "# Important no Proj\n",
    "## Data pre processing, image transformations\n",
    "## Design deep Learning Models\n",
    "## Utilize the pre-trained models and correctly adapt them to your task\n",
    "## Amount and quality of innovative approaches implemented"
   ]
  },
  {
   "cell_type": "markdown",
   "metadata": {},
   "source": [
    "# CHAT\n",
    "#   |\n",
    "#   |\n",
    "#   v"
   ]
  },
  {
   "cell_type": "markdown",
   "metadata": {},
   "source": [
    "## Fase 1"
   ]
  },
  {
   "cell_type": "code",
   "execution_count": 8,
   "metadata": {},
   "outputs": [
    {
     "data": {
      "application/vnd.microsoft.datawrangler.viewer.v0+json": {
       "columns": [
        {
         "name": "index",
         "rawType": "int64",
         "type": "integer"
        },
        {
         "name": "rare_species_id",
         "rawType": "object",
         "type": "string"
        },
        {
         "name": "eol_content_id",
         "rawType": "int64",
         "type": "integer"
        },
        {
         "name": "eol_page_id",
         "rawType": "int64",
         "type": "integer"
        },
        {
         "name": "kingdom",
         "rawType": "object",
         "type": "string"
        },
        {
         "name": "phylum",
         "rawType": "object",
         "type": "string"
        },
        {
         "name": "family",
         "rawType": "object",
         "type": "string"
        },
        {
         "name": "file_path",
         "rawType": "object",
         "type": "string"
        }
       ],
       "conversionMethod": "pd.DataFrame",
       "ref": "11b38c6b-384d-4351-9109-b8c527e8de03",
       "rows": [
        [
         "0",
         "75fd91cb-2881-41cd-88e6-de451e8b60e2",
         "12853737",
         "449393",
         "animalia",
         "mollusca",
         "unionidae",
         "mollusca_unionidae/12853737_449393_eol-full-size-copy.jpg"
        ],
        [
         "1",
         "28c508bc-63ff-4e60-9c8f-1934367e1528",
         "20969394",
         "793083",
         "animalia",
         "chordata",
         "geoemydidae",
         "chordata_geoemydidae/20969394_793083_eol-full-size-copy.jpg"
        ],
        [
         "2",
         "00372441-588c-4af8-9665-29bee20822c0",
         "28895411",
         "319982",
         "animalia",
         "chordata",
         "cryptobranchidae",
         "chordata_cryptobranchidae/28895411_319982_eol-full-size-copy.jpg"
        ],
        [
         "3",
         "29cc6040-6af2-49ee-86ec-ab7d89793828",
         "29658536",
         "45510188",
         "animalia",
         "chordata",
         "turdidae",
         "chordata_turdidae/29658536_45510188_eol-full-size-copy.jpg"
        ],
        [
         "4",
         "94004bff-3a33-4758-8125-bf72e6e57eab",
         "21252576",
         "7250886",
         "animalia",
         "chordata",
         "indriidae",
         "chordata_indriidae/21252576_7250886_eol-full-size-copy.jpg"
        ]
       ],
       "shape": {
        "columns": 7,
        "rows": 5
       }
      },
      "text/html": [
       "<div>\n",
       "<style scoped>\n",
       "    .dataframe tbody tr th:only-of-type {\n",
       "        vertical-align: middle;\n",
       "    }\n",
       "\n",
       "    .dataframe tbody tr th {\n",
       "        vertical-align: top;\n",
       "    }\n",
       "\n",
       "    .dataframe thead th {\n",
       "        text-align: right;\n",
       "    }\n",
       "</style>\n",
       "<table border=\"1\" class=\"dataframe\">\n",
       "  <thead>\n",
       "    <tr style=\"text-align: right;\">\n",
       "      <th></th>\n",
       "      <th>rare_species_id</th>\n",
       "      <th>eol_content_id</th>\n",
       "      <th>eol_page_id</th>\n",
       "      <th>kingdom</th>\n",
       "      <th>phylum</th>\n",
       "      <th>family</th>\n",
       "      <th>file_path</th>\n",
       "    </tr>\n",
       "  </thead>\n",
       "  <tbody>\n",
       "    <tr>\n",
       "      <th>0</th>\n",
       "      <td>75fd91cb-2881-41cd-88e6-de451e8b60e2</td>\n",
       "      <td>12853737</td>\n",
       "      <td>449393</td>\n",
       "      <td>animalia</td>\n",
       "      <td>mollusca</td>\n",
       "      <td>unionidae</td>\n",
       "      <td>mollusca_unionidae/12853737_449393_eol-full-si...</td>\n",
       "    </tr>\n",
       "    <tr>\n",
       "      <th>1</th>\n",
       "      <td>28c508bc-63ff-4e60-9c8f-1934367e1528</td>\n",
       "      <td>20969394</td>\n",
       "      <td>793083</td>\n",
       "      <td>animalia</td>\n",
       "      <td>chordata</td>\n",
       "      <td>geoemydidae</td>\n",
       "      <td>chordata_geoemydidae/20969394_793083_eol-full-...</td>\n",
       "    </tr>\n",
       "    <tr>\n",
       "      <th>2</th>\n",
       "      <td>00372441-588c-4af8-9665-29bee20822c0</td>\n",
       "      <td>28895411</td>\n",
       "      <td>319982</td>\n",
       "      <td>animalia</td>\n",
       "      <td>chordata</td>\n",
       "      <td>cryptobranchidae</td>\n",
       "      <td>chordata_cryptobranchidae/28895411_319982_eol-...</td>\n",
       "    </tr>\n",
       "    <tr>\n",
       "      <th>3</th>\n",
       "      <td>29cc6040-6af2-49ee-86ec-ab7d89793828</td>\n",
       "      <td>29658536</td>\n",
       "      <td>45510188</td>\n",
       "      <td>animalia</td>\n",
       "      <td>chordata</td>\n",
       "      <td>turdidae</td>\n",
       "      <td>chordata_turdidae/29658536_45510188_eol-full-s...</td>\n",
       "    </tr>\n",
       "    <tr>\n",
       "      <th>4</th>\n",
       "      <td>94004bff-3a33-4758-8125-bf72e6e57eab</td>\n",
       "      <td>21252576</td>\n",
       "      <td>7250886</td>\n",
       "      <td>animalia</td>\n",
       "      <td>chordata</td>\n",
       "      <td>indriidae</td>\n",
       "      <td>chordata_indriidae/21252576_7250886_eol-full-s...</td>\n",
       "    </tr>\n",
       "  </tbody>\n",
       "</table>\n",
       "</div>"
      ],
      "text/plain": [
       "                        rare_species_id  eol_content_id  eol_page_id  \\\n",
       "0  75fd91cb-2881-41cd-88e6-de451e8b60e2        12853737       449393   \n",
       "1  28c508bc-63ff-4e60-9c8f-1934367e1528        20969394       793083   \n",
       "2  00372441-588c-4af8-9665-29bee20822c0        28895411       319982   \n",
       "3  29cc6040-6af2-49ee-86ec-ab7d89793828        29658536     45510188   \n",
       "4  94004bff-3a33-4758-8125-bf72e6e57eab        21252576      7250886   \n",
       "\n",
       "    kingdom    phylum            family  \\\n",
       "0  animalia  mollusca         unionidae   \n",
       "1  animalia  chordata       geoemydidae   \n",
       "2  animalia  chordata  cryptobranchidae   \n",
       "3  animalia  chordata          turdidae   \n",
       "4  animalia  chordata         indriidae   \n",
       "\n",
       "                                           file_path  \n",
       "0  mollusca_unionidae/12853737_449393_eol-full-si...  \n",
       "1  chordata_geoemydidae/20969394_793083_eol-full-...  \n",
       "2  chordata_cryptobranchidae/28895411_319982_eol-...  \n",
       "3  chordata_turdidae/29658536_45510188_eol-full-s...  \n",
       "4  chordata_indriidae/21252576_7250886_eol-full-s...  "
      ]
     },
     "execution_count": 8,
     "metadata": {},
     "output_type": "execute_result"
    }
   ],
   "source": [
    "import pandas as pd\n",
    "\n",
    "# Carrega o CSV\n",
    "metadata = pd.read_csv(\"C:/Users/luisp/OneDrive/Mestrado/1ano/2sem/Deep Learning (DL)/Project/rare_species 1/metadata.csv\")\n",
    "\n",
    "# Visualiza o que está lá\n",
    "metadata.head()"
   ]
  },
  {
   "cell_type": "code",
   "execution_count": 9,
   "metadata": {},
   "outputs": [
    {
     "name": "stdout",
     "output_type": "stream",
     "text": [
      "Total de imagens no metadata: 11983\n",
      "Total de imagens que existem no disco: 11946\n",
      "Total real de ficheiros de imagem no disco: 11948\n",
      "\n",
      "Exemplos de imagens em falta:\n",
      "                                              file_path\n",
      "65    chordata_percidae/2702997_211786_eol-full-size...\n",
      "1662  chordata_laridae/30123070_45516169_eol-full-si...\n",
      "1675  arthropoda_carabidae/28933425_2867406_eol-full...\n",
      "2062  arthropoda_carabidae/27782880_2867406_eol-full...\n",
      "2109  chordata_callitrichidae/29473109_323892_eol-fu...\n",
      "\n",
      "✅ metadata_clean.csv guardado com sucesso — apenas com imagens existentes.\n"
     ]
    }
   ],
   "source": [
    "import os\n",
    "import pandas as pd\n",
    "\n",
    "# Caminho base onde estão as pastas com imagens\n",
    "base_image_dir = 'C:/Users/luisp/OneDrive/Mestrado/1ano/2sem/Deep Learning (DL)/Project/rare_species 1'\n",
    "\n",
    "# Criar coluna com caminho absoluto para cada imagem\n",
    "metadata['absolute_path'] = metadata['file_path'].apply(lambda x: os.path.join(base_image_dir, x))\n",
    "\n",
    "# Verificar se o ficheiro existe no disco\n",
    "metadata['exists_on_disk'] = metadata['absolute_path'].apply(os.path.exists)\n",
    "\n",
    "# Mostrar quantos existem e quantos faltam\n",
    "total_in_metadata = len(metadata)\n",
    "existing_on_disk = metadata['exists_on_disk'].sum()\n",
    "real_images_on_disk = sum(len(files) for _, _, files in os.walk(base_image_dir))\n",
    "\n",
    "print(f\"Total de imagens no metadata: {total_in_metadata}\")\n",
    "print(f\"Total de imagens que existem no disco: {existing_on_disk}\")\n",
    "print(f\"Total real de ficheiros de imagem no disco: {real_images_on_disk}\")\n",
    "\n",
    "# Mostrar exemplos de imagens em falta\n",
    "print(\"\\nExemplos de imagens em falta:\")\n",
    "print(metadata[~metadata['exists_on_disk']][['file_path']].head())\n",
    "\n",
    "# Remover entradas com ficheiros em falta\n",
    "metadata_clean = metadata[metadata['exists_on_disk']].drop(columns=['exists_on_disk'])\n",
    "\n",
    "# Guardar novo ficheiro limpo\n",
    "metadata_clean.to_csv(\"C:/Users/luisp/OneDrive/Mestrado/1ano/2sem/Deep Learning (DL)/Project/rare_species 1/metadata_clean.csv\", index=False)\n",
    "\n",
    "print(\"\\n✅ metadata_clean.csv guardado com sucesso — apenas com imagens existentes.\")"
   ]
  },
  {
   "cell_type": "code",
   "execution_count": 10,
   "metadata": {},
   "outputs": [
    {
     "data": {
      "application/vnd.microsoft.datawrangler.viewer.v0+json": {
       "columns": [
        {
         "name": "index",
         "rawType": "int64",
         "type": "integer"
        },
        {
         "name": "family",
         "rawType": "object",
         "type": "string"
        },
        {
         "name": "label_encoded",
         "rawType": "int64",
         "type": "integer"
        }
       ],
       "conversionMethod": "pd.DataFrame",
       "ref": "2e9ee7a0-7f3c-4faf-a874-79cdc4b01bce",
       "rows": [
        [
         "0",
         "unionidae",
         "193"
        ],
        [
         "1",
         "geoemydidae",
         "84"
        ],
        [
         "2",
         "cryptobranchidae",
         "56"
        ],
        [
         "3",
         "turdidae",
         "192"
        ],
        [
         "4",
         "indriidae",
         "100"
        ],
        [
         "5",
         "formicidae",
         "79"
        ],
        [
         "6",
         "fringillidae",
         "80"
        ],
        [
         "7",
         "gomphidae",
         "88"
        ],
        [
         "8",
         "myliobatidae",
         "122"
        ],
        [
         "9",
         "pleuronectidae",
         "143"
        ],
        [
         "10",
         "nesospingidae",
         "123"
        ],
        [
         "11",
         "dasyuridae",
         "64"
        ],
        [
         "12",
         "accipitridae",
         "0"
        ],
        [
         "14",
         "glareolidae",
         "86"
        ],
        [
         "15",
         "trogonidae",
         "190"
        ],
        [
         "16",
         "carcharhinidae",
         "33"
        ],
        [
         "17",
         "diomedeidae",
         "69"
        ],
        [
         "18",
         "gavialidae",
         "82"
        ],
        [
         "19",
         "salamandridae",
         "163"
        ],
        [
         "20",
         "iguanidae",
         "99"
        ],
        [
         "21",
         "delphinidae",
         "66"
        ],
        [
         "22",
         "gekkonidae",
         "83"
        ],
        [
         "23",
         "procellariidae",
         "150"
        ],
        [
         "24",
         "daubentoniidae",
         "65"
        ],
        [
         "25",
         "pittidae",
         "140"
        ],
        [
         "26",
         "aotidae",
         "12"
        ],
        [
         "27",
         "platystictidae",
         "141"
        ],
        [
         "28",
         "serranidae",
         "169"
        ],
        [
         "29",
         "rhacophoridae",
         "160"
        ],
        [
         "30",
         "alcedinidae",
         "6"
        ],
        [
         "31",
         "bufonidae",
         "26"
        ],
        [
         "32",
         "dactyloidae",
         "60"
        ],
        [
         "34",
         "tropiduridae",
         "191"
        ],
        [
         "35",
         "stichopodidae",
         "179"
        ],
        [
         "36",
         "caprimulgidae",
         "31"
        ],
        [
         "37",
         "cercopithecidae",
         "38"
        ],
        [
         "38",
         "bucerotidae",
         "25"
        ],
        [
         "39",
         "pocilloporidae",
         "144"
        ],
        [
         "40",
         "sciuridae",
         "166"
        ],
        [
         "41",
         "latimeriidae",
         "105"
        ],
        [
         "42",
         "ctenomyidae",
         "57"
        ],
        [
         "43",
         "mustelidae",
         "121"
        ],
        [
         "46",
         "anatidae",
         "10"
        ],
        [
         "47",
         "euphylliidae",
         "76"
        ],
        [
         "49",
         "charadriidae",
         "43"
        ],
        [
         "52",
         "plethodontidae",
         "142"
        ],
        [
         "53",
         "bombycillidae",
         "22"
        ],
        [
         "54",
         "thraupidae",
         "186"
        ],
        [
         "55",
         "cerambycidae",
         "37"
        ],
        [
         "56",
         "agariciidae",
         "4"
        ]
       ],
       "shape": {
        "columns": 2,
        "rows": 202
       }
      },
      "text/html": [
       "<div>\n",
       "<style scoped>\n",
       "    .dataframe tbody tr th:only-of-type {\n",
       "        vertical-align: middle;\n",
       "    }\n",
       "\n",
       "    .dataframe tbody tr th {\n",
       "        vertical-align: top;\n",
       "    }\n",
       "\n",
       "    .dataframe thead th {\n",
       "        text-align: right;\n",
       "    }\n",
       "</style>\n",
       "<table border=\"1\" class=\"dataframe\">\n",
       "  <thead>\n",
       "    <tr style=\"text-align: right;\">\n",
       "      <th></th>\n",
       "      <th>family</th>\n",
       "      <th>label_encoded</th>\n",
       "    </tr>\n",
       "  </thead>\n",
       "  <tbody>\n",
       "    <tr>\n",
       "      <th>0</th>\n",
       "      <td>unionidae</td>\n",
       "      <td>193</td>\n",
       "    </tr>\n",
       "    <tr>\n",
       "      <th>1</th>\n",
       "      <td>geoemydidae</td>\n",
       "      <td>84</td>\n",
       "    </tr>\n",
       "    <tr>\n",
       "      <th>2</th>\n",
       "      <td>cryptobranchidae</td>\n",
       "      <td>56</td>\n",
       "    </tr>\n",
       "    <tr>\n",
       "      <th>3</th>\n",
       "      <td>turdidae</td>\n",
       "      <td>192</td>\n",
       "    </tr>\n",
       "    <tr>\n",
       "      <th>4</th>\n",
       "      <td>indriidae</td>\n",
       "      <td>100</td>\n",
       "    </tr>\n",
       "    <tr>\n",
       "      <th>...</th>\n",
       "      <td>...</td>\n",
       "      <td>...</td>\n",
       "    </tr>\n",
       "    <tr>\n",
       "      <th>1421</th>\n",
       "      <td>cyprinodontidae</td>\n",
       "      <td>59</td>\n",
       "    </tr>\n",
       "    <tr>\n",
       "      <th>1450</th>\n",
       "      <td>cacatuidae</td>\n",
       "      <td>28</td>\n",
       "    </tr>\n",
       "    <tr>\n",
       "      <th>1536</th>\n",
       "      <td>balaenidae</td>\n",
       "      <td>19</td>\n",
       "    </tr>\n",
       "    <tr>\n",
       "      <th>1600</th>\n",
       "      <td>alligatoridae</td>\n",
       "      <td>7</td>\n",
       "    </tr>\n",
       "    <tr>\n",
       "      <th>3714</th>\n",
       "      <td>goodeidae</td>\n",
       "      <td>89</td>\n",
       "    </tr>\n",
       "  </tbody>\n",
       "</table>\n",
       "<p>202 rows × 2 columns</p>\n",
       "</div>"
      ],
      "text/plain": [
       "                family  label_encoded\n",
       "0            unionidae            193\n",
       "1          geoemydidae             84\n",
       "2     cryptobranchidae             56\n",
       "3             turdidae            192\n",
       "4            indriidae            100\n",
       "...                ...            ...\n",
       "1421   cyprinodontidae             59\n",
       "1450        cacatuidae             28\n",
       "1536        balaenidae             19\n",
       "1600     alligatoridae              7\n",
       "3714         goodeidae             89\n",
       "\n",
       "[202 rows x 2 columns]"
      ]
     },
     "execution_count": 10,
     "metadata": {},
     "output_type": "execute_result"
    }
   ],
   "source": [
    "from sklearn.preprocessing import LabelEncoder\n",
    "\n",
    "# Codificar a coluna 'family'\n",
    "label_encoder = LabelEncoder()\n",
    "metadata_clean['label_encoded'] = label_encoder.fit_transform(metadata_clean['family'])\n",
    "\n",
    "# Guarda a lista de labels para decodificar mais tarde se precisares\n",
    "label_map = dict(zip(label_encoder.classes_, label_encoder.transform(label_encoder.classes_)))\n",
    "\n",
    "# Visualiza\n",
    "metadata_clean[['family', 'label_encoded']].drop_duplicates()"
   ]
  },
  {
   "cell_type": "code",
   "execution_count": 11,
   "metadata": {},
   "outputs": [
    {
     "name": "stdout",
     "output_type": "stream",
     "text": [
      "Treino: 8362 | Validação: 1792 | Teste: 1792\n"
     ]
    }
   ],
   "source": [
    "from sklearn.model_selection import train_test_split\n",
    "\n",
    "# Split inicial: treino (70%) e resto (30%)\n",
    "train_df, temp_df = train_test_split(metadata_clean, test_size=0.3, stratify=metadata_clean['label_encoded'], random_state=42)\n",
    "\n",
    "# Segundo split: validação (15%) e teste (15%)\n",
    "val_df, test_df = train_test_split(temp_df, test_size=0.5, stratify=temp_df['label_encoded'], random_state=42)\n",
    "\n",
    "# Verifica o tamanho de cada split\n",
    "print(f\"Treino: {len(train_df)} | Validação: {len(val_df)} | Teste: {len(test_df)}\")"
   ]
  },
  {
   "cell_type": "code",
   "execution_count": 12,
   "metadata": {},
   "outputs": [],
   "source": [
    "# Fase 1 - Passo 4 - Opcional\n",
    "import os\n",
    "\n",
    "# Cria a coluna com caminho absoluto\n",
    "for df in [train_df, val_df, test_df]:\n",
    "    df['absolute_path'] = df['file_path'].apply(lambda x: os.path.normpath(os.path.join(base_image_dir, x)))"
   ]
  },
  {
   "cell_type": "code",
   "execution_count": 13,
   "metadata": {},
   "outputs": [],
   "source": [
    "# Fase 1 - Passo 5 - Opcional\n",
    "\n",
    "# train_df.to_csv(\"train_split.csv\", index=False)\n",
    "# val_df.to_csv(\"val_split.csv\", index=False)\n",
    "# test_df.to_csv(\"test_split.csv\", index=False)"
   ]
  },
  {
   "cell_type": "markdown",
   "metadata": {},
   "source": [
    "## Fase 2\n"
   ]
  },
  {
   "cell_type": "code",
   "execution_count": 14,
   "metadata": {},
   "outputs": [],
   "source": [
    "# Fase 2 - Passo 1\n",
    "import tensorflow as tf\n",
    "\n",
    "# Parâmetros principais\n",
    "IMG_SIZE = (224, 224)\n",
    "BATCH_SIZE = 32\n",
    "AUTOTUNE = tf.data.AUTOTUNE"
   ]
  },
  {
   "cell_type": "code",
   "execution_count": 15,
   "metadata": {},
   "outputs": [],
   "source": [
    "# Fase 2 - Passo 3\n",
    "# Função para carregar e processar uma imagem\n",
    "def load_image(image_path, label):\n",
    "    image = tf.io.read_file(image_path)\n",
    "    image = tf.image.decode_jpeg(image, channels=3)\n",
    "    image = tf.image.resize(image, IMG_SIZE)\n",
    "    image = tf.cast(image, tf.float32) / 255.0  # Normaliza para [0, 1]\n",
    "    return image, label\n",
    "\n",
    "# Data augmentation (apenas para treino)\n",
    "def augment(image, label):\n",
    "    image = tf.image.random_flip_left_right(image)\n",
    "    image = tf.image.random_brightness(image, max_delta=0.1)\n",
    "    return image, label"
   ]
  },
  {
   "cell_type": "code",
   "execution_count": 16,
   "metadata": {},
   "outputs": [],
   "source": [
    "# Fase 2 - Passo 4\n",
    "def prepare_dataset(df, augment_data=False, shuffle=False):\n",
    "    paths = df['absolute_path'].values\n",
    "    labels = df['label_encoded'].values\n",
    "\n",
    "    dataset = tf.data.Dataset.from_tensor_slices((paths, labels))\n",
    "    dataset = dataset.map(load_image, num_parallel_calls=AUTOTUNE)\n",
    "\n",
    "    if augment_data:\n",
    "        dataset = dataset.map(augment, num_parallel_calls=AUTOTUNE)\n",
    "    if shuffle:\n",
    "        dataset = dataset.shuffle(buffer_size=1000)\n",
    "\n",
    "    dataset = dataset.batch(BATCH_SIZE).prefetch(AUTOTUNE)\n",
    "    return dataset\n",
    "\n",
    "# Criar os 3 datasets\n",
    "train_dataset = prepare_dataset(train_df, augment_data=True, shuffle=True)\n",
    "val_dataset = prepare_dataset(val_df)\n",
    "test_dataset = prepare_dataset(test_df)\n"
   ]
  },
  {
   "cell_type": "markdown",
   "metadata": {},
   "source": [
    "## Fase 3"
   ]
  },
  {
   "cell_type": "code",
   "execution_count": 17,
   "metadata": {},
   "outputs": [],
   "source": [
    "# Fase 3 - Passo 1\n",
    "\n",
    "from tensorflow.keras.applications import EfficientNetB0, EfficientNetB3\n",
    "from tensorflow.keras.layers import GlobalAveragePooling2D, Dense, Dropout\n",
    "from tensorflow.keras.models import Model\n",
    "from tensorflow.keras.optimizers import Adam\n",
    "\n",
    "# Número de classes\n",
    "NUM_CLASSES = train_df['label_encoded'].nunique()\n",
    "\n",
    "base_model = EfficientNetB3(weights='imagenet', include_top=False, input_shape=(224, 224, 3))\n",
    "base_model.trainable = False  # para começar com Transfer Learning"
   ]
  },
  {
   "cell_type": "code",
   "execution_count": 18,
   "metadata": {},
   "outputs": [],
   "source": [
    "from tensorflow.keras.optimizers import Adam\n",
    "from tensorflow.keras.models import Model\n",
    "from tensorflow.keras.layers import GlobalAveragePooling2D, Dense, Dropout\n",
    "\n",
    "# 🔓 Descongelar apenas as últimas camadas do modelo base\n",
    "base_model.trainable = True\n",
    "\n",
    "# Congelar as primeiras camadas e deixar só as últimas 20 treináveis\n",
    "for layer in base_model.layers[:-20]:\n",
    "    layer.trainable = False\n",
    "\n",
    "# ✅ Criar a \"cabeça\" do modelo\n",
    "x = base_model.output\n",
    "x = GlobalAveragePooling2D()(x)\n",
    "x = Dropout(0.3)(x)\n",
    "output = Dense(NUM_CLASSES, activation='softmax')(x)\n",
    "\n",
    "model = Model(inputs=base_model.input, outputs=output)\n",
    "\n",
    "# ⚠️ Recompilar com learning rate reduzida\n",
    "model.compile(optimizer=Adam(learning_rate=1e-5),\n",
    "              loss='sparse_categorical_crossentropy',\n",
    "              metrics=['accuracy'])\n",
    "\n",
    "# (Opcional) Ver resumo do modelo\n",
    "# model.summary()\n"
   ]
  },
  {
   "cell_type": "code",
   "execution_count": 19,
   "metadata": {},
   "outputs": [
    {
     "name": "stdout",
     "output_type": "stream",
     "text": [
      "Epoch 1/60\n",
      "\u001b[1m262/262\u001b[0m \u001b[32m━━━━━━━━━━━━━━━━━━━━\u001b[0m\u001b[37m\u001b[0m \u001b[1m0s\u001b[0m 736ms/step - accuracy: 0.0121 - loss: 5.3083"
     ]
    },
    {
     "name": "stderr",
     "output_type": "stream",
     "text": [
      "WARNING:absl:You are saving your model as an HDF5 file via `model.save()` or `keras.saving.save_model(model)`. This file format is considered legacy. We recommend using instead the native Keras format, e.g. `model.save('my_model.keras')` or `keras.saving.save_model(model, 'my_model.keras')`. \n"
     ]
    },
    {
     "name": "stdout",
     "output_type": "stream",
     "text": [
      "\u001b[1m262/262\u001b[0m \u001b[32m━━━━━━━━━━━━━━━━━━━━\u001b[0m\u001b[37m\u001b[0m \u001b[1m261s\u001b[0m 906ms/step - accuracy: 0.0121 - loss: 5.3082 - val_accuracy: 0.0179 - val_loss: 5.2941\n",
      "Epoch 2/60\n",
      "\u001b[1m262/262\u001b[0m \u001b[32m━━━━━━━━━━━━━━━━━━━━\u001b[0m\u001b[37m\u001b[0m \u001b[1m0s\u001b[0m 793ms/step - accuracy: 0.0259 - loss: 5.1865"
     ]
    },
    {
     "name": "stderr",
     "output_type": "stream",
     "text": [
      "WARNING:absl:You are saving your model as an HDF5 file via `model.save()` or `keras.saving.save_model(model)`. This file format is considered legacy. We recommend using instead the native Keras format, e.g. `model.save('my_model.keras')` or `keras.saving.save_model(model, 'my_model.keras')`. \n"
     ]
    },
    {
     "name": "stdout",
     "output_type": "stream",
     "text": [
      "\u001b[1m262/262\u001b[0m \u001b[32m━━━━━━━━━━━━━━━━━━━━\u001b[0m\u001b[37m\u001b[0m \u001b[1m252s\u001b[0m 948ms/step - accuracy: 0.0259 - loss: 5.1864 - val_accuracy: 0.0296 - val_loss: 5.1282\n",
      "Epoch 3/60\n",
      "\u001b[1m262/262\u001b[0m \u001b[32m━━━━━━━━━━━━━━━━━━━━\u001b[0m\u001b[37m\u001b[0m \u001b[1m0s\u001b[0m 804ms/step - accuracy: 0.0374 - loss: 5.1014"
     ]
    },
    {
     "name": "stderr",
     "output_type": "stream",
     "text": [
      "WARNING:absl:You are saving your model as an HDF5 file via `model.save()` or `keras.saving.save_model(model)`. This file format is considered legacy. We recommend using instead the native Keras format, e.g. `model.save('my_model.keras')` or `keras.saving.save_model(model, 'my_model.keras')`. \n"
     ]
    },
    {
     "name": "stdout",
     "output_type": "stream",
     "text": [
      "\u001b[1m262/262\u001b[0m \u001b[32m━━━━━━━━━━━━━━━━━━━━\u001b[0m\u001b[37m\u001b[0m \u001b[1m252s\u001b[0m 946ms/step - accuracy: 0.0374 - loss: 5.1014 - val_accuracy: 0.0424 - val_loss: 5.0471\n",
      "Epoch 4/60\n",
      "\u001b[1m 18/262\u001b[0m \u001b[32m━\u001b[0m\u001b[37m━━━━━━━━━━━━━━━━━━━\u001b[0m \u001b[1m3:13\u001b[0m 792ms/step - accuracy: 0.0434 - loss: 5.0429"
     ]
    },
    {
     "ename": "KeyboardInterrupt",
     "evalue": "",
     "output_type": "error",
     "traceback": [
      "\u001b[31m---------------------------------------------------------------------------\u001b[39m",
      "\u001b[31mKeyboardInterrupt\u001b[39m                         Traceback (most recent call last)",
      "\u001b[36mCell\u001b[39m\u001b[36m \u001b[39m\u001b[32mIn[19]\u001b[39m\u001b[32m, line 12\u001b[39m\n\u001b[32m      6\u001b[39m callbacks = [\n\u001b[32m      7\u001b[39m     EarlyStopping(monitor=\u001b[33m'\u001b[39m\u001b[33mval_loss\u001b[39m\u001b[33m'\u001b[39m, patience=\u001b[32m20\u001b[39m, restore_best_weights=\u001b[38;5;28;01mTrue\u001b[39;00m),\n\u001b[32m      8\u001b[39m     ModelCheckpoint(\u001b[33m\"\u001b[39m\u001b[33mbest_model.h5\u001b[39m\u001b[33m\"\u001b[39m, save_best_only=\u001b[38;5;28;01mTrue\u001b[39;00m)\n\u001b[32m      9\u001b[39m ]\n\u001b[32m     11\u001b[39m \u001b[38;5;66;03m# Treino\u001b[39;00m\n\u001b[32m---> \u001b[39m\u001b[32m12\u001b[39m history = \u001b[43mmodel\u001b[49m\u001b[43m.\u001b[49m\u001b[43mfit\u001b[49m\u001b[43m(\u001b[49m\n\u001b[32m     13\u001b[39m \u001b[43m    \u001b[49m\u001b[43mtrain_dataset\u001b[49m\u001b[43m,\u001b[49m\n\u001b[32m     14\u001b[39m \u001b[43m    \u001b[49m\u001b[43mvalidation_data\u001b[49m\u001b[43m=\u001b[49m\u001b[43mval_dataset\u001b[49m\u001b[43m,\u001b[49m\n\u001b[32m     15\u001b[39m \u001b[43m    \u001b[49m\u001b[43mepochs\u001b[49m\u001b[43m=\u001b[49m\u001b[32;43m60\u001b[39;49m\u001b[43m,\u001b[49m\n\u001b[32m     16\u001b[39m \u001b[43m    \u001b[49m\u001b[43mcallbacks\u001b[49m\u001b[43m=\u001b[49m\u001b[43mcallbacks\u001b[49m\n\u001b[32m     17\u001b[39m \u001b[43m)\u001b[49m\n",
      "\u001b[36mFile \u001b[39m\u001b[32mc:\\Users\\luisp\\OneDrive\\Mestrado\\1ano\\2sem\\Deep Learning (DL)\\dl_env\\Lib\\site-packages\\keras\\src\\utils\\traceback_utils.py:117\u001b[39m, in \u001b[36mfilter_traceback.<locals>.error_handler\u001b[39m\u001b[34m(*args, **kwargs)\u001b[39m\n\u001b[32m    115\u001b[39m filtered_tb = \u001b[38;5;28;01mNone\u001b[39;00m\n\u001b[32m    116\u001b[39m \u001b[38;5;28;01mtry\u001b[39;00m:\n\u001b[32m--> \u001b[39m\u001b[32m117\u001b[39m     \u001b[38;5;28;01mreturn\u001b[39;00m \u001b[43mfn\u001b[49m\u001b[43m(\u001b[49m\u001b[43m*\u001b[49m\u001b[43margs\u001b[49m\u001b[43m,\u001b[49m\u001b[43m \u001b[49m\u001b[43m*\u001b[49m\u001b[43m*\u001b[49m\u001b[43mkwargs\u001b[49m\u001b[43m)\u001b[49m\n\u001b[32m    118\u001b[39m \u001b[38;5;28;01mexcept\u001b[39;00m \u001b[38;5;167;01mException\u001b[39;00m \u001b[38;5;28;01mas\u001b[39;00m e:\n\u001b[32m    119\u001b[39m     filtered_tb = _process_traceback_frames(e.__traceback__)\n",
      "\u001b[36mFile \u001b[39m\u001b[32mc:\\Users\\luisp\\OneDrive\\Mestrado\\1ano\\2sem\\Deep Learning (DL)\\dl_env\\Lib\\site-packages\\keras\\src\\backend\\tensorflow\\trainer.py:371\u001b[39m, in \u001b[36mTensorFlowTrainer.fit\u001b[39m\u001b[34m(self, x, y, batch_size, epochs, verbose, callbacks, validation_split, validation_data, shuffle, class_weight, sample_weight, initial_epoch, steps_per_epoch, validation_steps, validation_batch_size, validation_freq)\u001b[39m\n\u001b[32m    369\u001b[39m \u001b[38;5;28;01mfor\u001b[39;00m step, iterator \u001b[38;5;129;01min\u001b[39;00m epoch_iterator:\n\u001b[32m    370\u001b[39m     callbacks.on_train_batch_begin(step)\n\u001b[32m--> \u001b[39m\u001b[32m371\u001b[39m     logs = \u001b[38;5;28;43mself\u001b[39;49m\u001b[43m.\u001b[49m\u001b[43mtrain_function\u001b[49m\u001b[43m(\u001b[49m\u001b[43miterator\u001b[49m\u001b[43m)\u001b[49m\n\u001b[32m    372\u001b[39m     callbacks.on_train_batch_end(step, logs)\n\u001b[32m    373\u001b[39m     \u001b[38;5;28;01mif\u001b[39;00m \u001b[38;5;28mself\u001b[39m.stop_training:\n",
      "\u001b[36mFile \u001b[39m\u001b[32mc:\\Users\\luisp\\OneDrive\\Mestrado\\1ano\\2sem\\Deep Learning (DL)\\dl_env\\Lib\\site-packages\\keras\\src\\backend\\tensorflow\\trainer.py:219\u001b[39m, in \u001b[36mTensorFlowTrainer._make_function.<locals>.function\u001b[39m\u001b[34m(iterator)\u001b[39m\n\u001b[32m    215\u001b[39m \u001b[38;5;28;01mdef\u001b[39;00m\u001b[38;5;250m \u001b[39m\u001b[34mfunction\u001b[39m(iterator):\n\u001b[32m    216\u001b[39m     \u001b[38;5;28;01mif\u001b[39;00m \u001b[38;5;28misinstance\u001b[39m(\n\u001b[32m    217\u001b[39m         iterator, (tf.data.Iterator, tf.distribute.DistributedIterator)\n\u001b[32m    218\u001b[39m     ):\n\u001b[32m--> \u001b[39m\u001b[32m219\u001b[39m         opt_outputs = \u001b[43mmulti_step_on_iterator\u001b[49m\u001b[43m(\u001b[49m\u001b[43miterator\u001b[49m\u001b[43m)\u001b[49m\n\u001b[32m    220\u001b[39m         \u001b[38;5;28;01mif\u001b[39;00m \u001b[38;5;129;01mnot\u001b[39;00m opt_outputs.has_value():\n\u001b[32m    221\u001b[39m             \u001b[38;5;28;01mraise\u001b[39;00m \u001b[38;5;167;01mStopIteration\u001b[39;00m\n",
      "\u001b[36mFile \u001b[39m\u001b[32mc:\\Users\\luisp\\OneDrive\\Mestrado\\1ano\\2sem\\Deep Learning (DL)\\dl_env\\Lib\\site-packages\\tensorflow\\python\\util\\traceback_utils.py:150\u001b[39m, in \u001b[36mfilter_traceback.<locals>.error_handler\u001b[39m\u001b[34m(*args, **kwargs)\u001b[39m\n\u001b[32m    148\u001b[39m filtered_tb = \u001b[38;5;28;01mNone\u001b[39;00m\n\u001b[32m    149\u001b[39m \u001b[38;5;28;01mtry\u001b[39;00m:\n\u001b[32m--> \u001b[39m\u001b[32m150\u001b[39m   \u001b[38;5;28;01mreturn\u001b[39;00m \u001b[43mfn\u001b[49m\u001b[43m(\u001b[49m\u001b[43m*\u001b[49m\u001b[43margs\u001b[49m\u001b[43m,\u001b[49m\u001b[43m \u001b[49m\u001b[43m*\u001b[49m\u001b[43m*\u001b[49m\u001b[43mkwargs\u001b[49m\u001b[43m)\u001b[49m\n\u001b[32m    151\u001b[39m \u001b[38;5;28;01mexcept\u001b[39;00m \u001b[38;5;167;01mException\u001b[39;00m \u001b[38;5;28;01mas\u001b[39;00m e:\n\u001b[32m    152\u001b[39m   filtered_tb = _process_traceback_frames(e.__traceback__)\n",
      "\u001b[36mFile \u001b[39m\u001b[32mc:\\Users\\luisp\\OneDrive\\Mestrado\\1ano\\2sem\\Deep Learning (DL)\\dl_env\\Lib\\site-packages\\tensorflow\\python\\eager\\polymorphic_function\\polymorphic_function.py:833\u001b[39m, in \u001b[36mFunction.__call__\u001b[39m\u001b[34m(self, *args, **kwds)\u001b[39m\n\u001b[32m    830\u001b[39m compiler = \u001b[33m\"\u001b[39m\u001b[33mxla\u001b[39m\u001b[33m\"\u001b[39m \u001b[38;5;28;01mif\u001b[39;00m \u001b[38;5;28mself\u001b[39m._jit_compile \u001b[38;5;28;01melse\u001b[39;00m \u001b[33m\"\u001b[39m\u001b[33mnonXla\u001b[39m\u001b[33m\"\u001b[39m\n\u001b[32m    832\u001b[39m \u001b[38;5;28;01mwith\u001b[39;00m OptionalXlaContext(\u001b[38;5;28mself\u001b[39m._jit_compile):\n\u001b[32m--> \u001b[39m\u001b[32m833\u001b[39m   result = \u001b[38;5;28;43mself\u001b[39;49m\u001b[43m.\u001b[49m\u001b[43m_call\u001b[49m\u001b[43m(\u001b[49m\u001b[43m*\u001b[49m\u001b[43margs\u001b[49m\u001b[43m,\u001b[49m\u001b[43m \u001b[49m\u001b[43m*\u001b[49m\u001b[43m*\u001b[49m\u001b[43mkwds\u001b[49m\u001b[43m)\u001b[49m\n\u001b[32m    835\u001b[39m new_tracing_count = \u001b[38;5;28mself\u001b[39m.experimental_get_tracing_count()\n\u001b[32m    836\u001b[39m without_tracing = (tracing_count == new_tracing_count)\n",
      "\u001b[36mFile \u001b[39m\u001b[32mc:\\Users\\luisp\\OneDrive\\Mestrado\\1ano\\2sem\\Deep Learning (DL)\\dl_env\\Lib\\site-packages\\tensorflow\\python\\eager\\polymorphic_function\\polymorphic_function.py:878\u001b[39m, in \u001b[36mFunction._call\u001b[39m\u001b[34m(self, *args, **kwds)\u001b[39m\n\u001b[32m    875\u001b[39m \u001b[38;5;28mself\u001b[39m._lock.release()\n\u001b[32m    876\u001b[39m \u001b[38;5;66;03m# In this case we have not created variables on the first call. So we can\u001b[39;00m\n\u001b[32m    877\u001b[39m \u001b[38;5;66;03m# run the first trace but we should fail if variables are created.\u001b[39;00m\n\u001b[32m--> \u001b[39m\u001b[32m878\u001b[39m results = \u001b[43mtracing_compilation\u001b[49m\u001b[43m.\u001b[49m\u001b[43mcall_function\u001b[49m\u001b[43m(\u001b[49m\n\u001b[32m    879\u001b[39m \u001b[43m    \u001b[49m\u001b[43margs\u001b[49m\u001b[43m,\u001b[49m\u001b[43m \u001b[49m\u001b[43mkwds\u001b[49m\u001b[43m,\u001b[49m\u001b[43m \u001b[49m\u001b[38;5;28;43mself\u001b[39;49m\u001b[43m.\u001b[49m\u001b[43m_variable_creation_config\u001b[49m\n\u001b[32m    880\u001b[39m \u001b[43m\u001b[49m\u001b[43m)\u001b[49m\n\u001b[32m    881\u001b[39m \u001b[38;5;28;01mif\u001b[39;00m \u001b[38;5;28mself\u001b[39m._created_variables:\n\u001b[32m    882\u001b[39m   \u001b[38;5;28;01mraise\u001b[39;00m \u001b[38;5;167;01mValueError\u001b[39;00m(\u001b[33m\"\u001b[39m\u001b[33mCreating variables on a non-first call to a function\u001b[39m\u001b[33m\"\u001b[39m\n\u001b[32m    883\u001b[39m                    \u001b[33m\"\u001b[39m\u001b[33m decorated with tf.function.\u001b[39m\u001b[33m\"\u001b[39m)\n",
      "\u001b[36mFile \u001b[39m\u001b[32mc:\\Users\\luisp\\OneDrive\\Mestrado\\1ano\\2sem\\Deep Learning (DL)\\dl_env\\Lib\\site-packages\\tensorflow\\python\\eager\\polymorphic_function\\tracing_compilation.py:139\u001b[39m, in \u001b[36mcall_function\u001b[39m\u001b[34m(args, kwargs, tracing_options)\u001b[39m\n\u001b[32m    137\u001b[39m bound_args = function.function_type.bind(*args, **kwargs)\n\u001b[32m    138\u001b[39m flat_inputs = function.function_type.unpack_inputs(bound_args)\n\u001b[32m--> \u001b[39m\u001b[32m139\u001b[39m \u001b[38;5;28;01mreturn\u001b[39;00m \u001b[43mfunction\u001b[49m\u001b[43m.\u001b[49m\u001b[43m_call_flat\u001b[49m\u001b[43m(\u001b[49m\u001b[43m  \u001b[49m\u001b[38;5;66;43;03m# pylint: disable=protected-access\u001b[39;49;00m\n\u001b[32m    140\u001b[39m \u001b[43m    \u001b[49m\u001b[43mflat_inputs\u001b[49m\u001b[43m,\u001b[49m\u001b[43m \u001b[49m\u001b[43mcaptured_inputs\u001b[49m\u001b[43m=\u001b[49m\u001b[43mfunction\u001b[49m\u001b[43m.\u001b[49m\u001b[43mcaptured_inputs\u001b[49m\n\u001b[32m    141\u001b[39m \u001b[43m\u001b[49m\u001b[43m)\u001b[49m\n",
      "\u001b[36mFile \u001b[39m\u001b[32mc:\\Users\\luisp\\OneDrive\\Mestrado\\1ano\\2sem\\Deep Learning (DL)\\dl_env\\Lib\\site-packages\\tensorflow\\python\\eager\\polymorphic_function\\concrete_function.py:1322\u001b[39m, in \u001b[36mConcreteFunction._call_flat\u001b[39m\u001b[34m(self, tensor_inputs, captured_inputs)\u001b[39m\n\u001b[32m   1318\u001b[39m possible_gradient_type = gradients_util.PossibleTapeGradientTypes(args)\n\u001b[32m   1319\u001b[39m \u001b[38;5;28;01mif\u001b[39;00m (possible_gradient_type == gradients_util.POSSIBLE_GRADIENT_TYPES_NONE\n\u001b[32m   1320\u001b[39m     \u001b[38;5;129;01mand\u001b[39;00m executing_eagerly):\n\u001b[32m   1321\u001b[39m   \u001b[38;5;66;03m# No tape is watching; skip to running the function.\u001b[39;00m\n\u001b[32m-> \u001b[39m\u001b[32m1322\u001b[39m   \u001b[38;5;28;01mreturn\u001b[39;00m \u001b[38;5;28;43mself\u001b[39;49m\u001b[43m.\u001b[49m\u001b[43m_inference_function\u001b[49m\u001b[43m.\u001b[49m\u001b[43mcall_preflattened\u001b[49m\u001b[43m(\u001b[49m\u001b[43margs\u001b[49m\u001b[43m)\u001b[49m\n\u001b[32m   1323\u001b[39m forward_backward = \u001b[38;5;28mself\u001b[39m._select_forward_and_backward_functions(\n\u001b[32m   1324\u001b[39m     args,\n\u001b[32m   1325\u001b[39m     possible_gradient_type,\n\u001b[32m   1326\u001b[39m     executing_eagerly)\n\u001b[32m   1327\u001b[39m forward_function, args_with_tangents = forward_backward.forward()\n",
      "\u001b[36mFile \u001b[39m\u001b[32mc:\\Users\\luisp\\OneDrive\\Mestrado\\1ano\\2sem\\Deep Learning (DL)\\dl_env\\Lib\\site-packages\\tensorflow\\python\\eager\\polymorphic_function\\atomic_function.py:216\u001b[39m, in \u001b[36mAtomicFunction.call_preflattened\u001b[39m\u001b[34m(self, args)\u001b[39m\n\u001b[32m    214\u001b[39m \u001b[38;5;28;01mdef\u001b[39;00m\u001b[38;5;250m \u001b[39m\u001b[34mcall_preflattened\u001b[39m(\u001b[38;5;28mself\u001b[39m, args: Sequence[core.Tensor]) -> Any:\n\u001b[32m    215\u001b[39m \u001b[38;5;250m  \u001b[39m\u001b[33;03m\"\"\"Calls with flattened tensor inputs and returns the structured output.\"\"\"\u001b[39;00m\n\u001b[32m--> \u001b[39m\u001b[32m216\u001b[39m   flat_outputs = \u001b[38;5;28;43mself\u001b[39;49m\u001b[43m.\u001b[49m\u001b[43mcall_flat\u001b[49m\u001b[43m(\u001b[49m\u001b[43m*\u001b[49m\u001b[43margs\u001b[49m\u001b[43m)\u001b[49m\n\u001b[32m    217\u001b[39m   \u001b[38;5;28;01mreturn\u001b[39;00m \u001b[38;5;28mself\u001b[39m.function_type.pack_output(flat_outputs)\n",
      "\u001b[36mFile \u001b[39m\u001b[32mc:\\Users\\luisp\\OneDrive\\Mestrado\\1ano\\2sem\\Deep Learning (DL)\\dl_env\\Lib\\site-packages\\tensorflow\\python\\eager\\polymorphic_function\\atomic_function.py:251\u001b[39m, in \u001b[36mAtomicFunction.call_flat\u001b[39m\u001b[34m(self, *args)\u001b[39m\n\u001b[32m    249\u001b[39m \u001b[38;5;28;01mwith\u001b[39;00m record.stop_recording():\n\u001b[32m    250\u001b[39m   \u001b[38;5;28;01mif\u001b[39;00m \u001b[38;5;28mself\u001b[39m._bound_context.executing_eagerly():\n\u001b[32m--> \u001b[39m\u001b[32m251\u001b[39m     outputs = \u001b[38;5;28;43mself\u001b[39;49m\u001b[43m.\u001b[49m\u001b[43m_bound_context\u001b[49m\u001b[43m.\u001b[49m\u001b[43mcall_function\u001b[49m\u001b[43m(\u001b[49m\n\u001b[32m    252\u001b[39m \u001b[43m        \u001b[49m\u001b[38;5;28;43mself\u001b[39;49m\u001b[43m.\u001b[49m\u001b[43mname\u001b[49m\u001b[43m,\u001b[49m\n\u001b[32m    253\u001b[39m \u001b[43m        \u001b[49m\u001b[38;5;28;43mlist\u001b[39;49m\u001b[43m(\u001b[49m\u001b[43margs\u001b[49m\u001b[43m)\u001b[49m\u001b[43m,\u001b[49m\n\u001b[32m    254\u001b[39m \u001b[43m        \u001b[49m\u001b[38;5;28;43mlen\u001b[39;49m\u001b[43m(\u001b[49m\u001b[38;5;28;43mself\u001b[39;49m\u001b[43m.\u001b[49m\u001b[43mfunction_type\u001b[49m\u001b[43m.\u001b[49m\u001b[43mflat_outputs\u001b[49m\u001b[43m)\u001b[49m\u001b[43m,\u001b[49m\n\u001b[32m    255\u001b[39m \u001b[43m    \u001b[49m\u001b[43m)\u001b[49m\n\u001b[32m    256\u001b[39m   \u001b[38;5;28;01melse\u001b[39;00m:\n\u001b[32m    257\u001b[39m     outputs = make_call_op_in_graph(\n\u001b[32m    258\u001b[39m         \u001b[38;5;28mself\u001b[39m,\n\u001b[32m    259\u001b[39m         \u001b[38;5;28mlist\u001b[39m(args),\n\u001b[32m    260\u001b[39m         \u001b[38;5;28mself\u001b[39m._bound_context.function_call_options.as_attrs(),\n\u001b[32m    261\u001b[39m     )\n",
      "\u001b[36mFile \u001b[39m\u001b[32mc:\\Users\\luisp\\OneDrive\\Mestrado\\1ano\\2sem\\Deep Learning (DL)\\dl_env\\Lib\\site-packages\\tensorflow\\python\\eager\\context.py:1683\u001b[39m, in \u001b[36mContext.call_function\u001b[39m\u001b[34m(self, name, tensor_inputs, num_outputs)\u001b[39m\n\u001b[32m   1681\u001b[39m cancellation_context = cancellation.context()\n\u001b[32m   1682\u001b[39m \u001b[38;5;28;01mif\u001b[39;00m cancellation_context \u001b[38;5;129;01mis\u001b[39;00m \u001b[38;5;28;01mNone\u001b[39;00m:\n\u001b[32m-> \u001b[39m\u001b[32m1683\u001b[39m   outputs = \u001b[43mexecute\u001b[49m\u001b[43m.\u001b[49m\u001b[43mexecute\u001b[49m\u001b[43m(\u001b[49m\n\u001b[32m   1684\u001b[39m \u001b[43m      \u001b[49m\u001b[43mname\u001b[49m\u001b[43m.\u001b[49m\u001b[43mdecode\u001b[49m\u001b[43m(\u001b[49m\u001b[33;43m\"\u001b[39;49m\u001b[33;43mutf-8\u001b[39;49m\u001b[33;43m\"\u001b[39;49m\u001b[43m)\u001b[49m\u001b[43m,\u001b[49m\n\u001b[32m   1685\u001b[39m \u001b[43m      \u001b[49m\u001b[43mnum_outputs\u001b[49m\u001b[43m=\u001b[49m\u001b[43mnum_outputs\u001b[49m\u001b[43m,\u001b[49m\n\u001b[32m   1686\u001b[39m \u001b[43m      \u001b[49m\u001b[43minputs\u001b[49m\u001b[43m=\u001b[49m\u001b[43mtensor_inputs\u001b[49m\u001b[43m,\u001b[49m\n\u001b[32m   1687\u001b[39m \u001b[43m      \u001b[49m\u001b[43mattrs\u001b[49m\u001b[43m=\u001b[49m\u001b[43mattrs\u001b[49m\u001b[43m,\u001b[49m\n\u001b[32m   1688\u001b[39m \u001b[43m      \u001b[49m\u001b[43mctx\u001b[49m\u001b[43m=\u001b[49m\u001b[38;5;28;43mself\u001b[39;49m\u001b[43m,\u001b[49m\n\u001b[32m   1689\u001b[39m \u001b[43m  \u001b[49m\u001b[43m)\u001b[49m\n\u001b[32m   1690\u001b[39m \u001b[38;5;28;01melse\u001b[39;00m:\n\u001b[32m   1691\u001b[39m   outputs = execute.execute_with_cancellation(\n\u001b[32m   1692\u001b[39m       name.decode(\u001b[33m\"\u001b[39m\u001b[33mutf-8\u001b[39m\u001b[33m\"\u001b[39m),\n\u001b[32m   1693\u001b[39m       num_outputs=num_outputs,\n\u001b[32m   (...)\u001b[39m\u001b[32m   1697\u001b[39m       cancellation_manager=cancellation_context,\n\u001b[32m   1698\u001b[39m   )\n",
      "\u001b[36mFile \u001b[39m\u001b[32mc:\\Users\\luisp\\OneDrive\\Mestrado\\1ano\\2sem\\Deep Learning (DL)\\dl_env\\Lib\\site-packages\\tensorflow\\python\\eager\\execute.py:53\u001b[39m, in \u001b[36mquick_execute\u001b[39m\u001b[34m(op_name, num_outputs, inputs, attrs, ctx, name)\u001b[39m\n\u001b[32m     51\u001b[39m \u001b[38;5;28;01mtry\u001b[39;00m:\n\u001b[32m     52\u001b[39m   ctx.ensure_initialized()\n\u001b[32m---> \u001b[39m\u001b[32m53\u001b[39m   tensors = \u001b[43mpywrap_tfe\u001b[49m\u001b[43m.\u001b[49m\u001b[43mTFE_Py_Execute\u001b[49m\u001b[43m(\u001b[49m\u001b[43mctx\u001b[49m\u001b[43m.\u001b[49m\u001b[43m_handle\u001b[49m\u001b[43m,\u001b[49m\u001b[43m \u001b[49m\u001b[43mdevice_name\u001b[49m\u001b[43m,\u001b[49m\u001b[43m \u001b[49m\u001b[43mop_name\u001b[49m\u001b[43m,\u001b[49m\n\u001b[32m     54\u001b[39m \u001b[43m                                      \u001b[49m\u001b[43minputs\u001b[49m\u001b[43m,\u001b[49m\u001b[43m \u001b[49m\u001b[43mattrs\u001b[49m\u001b[43m,\u001b[49m\u001b[43m \u001b[49m\u001b[43mnum_outputs\u001b[49m\u001b[43m)\u001b[49m\n\u001b[32m     55\u001b[39m \u001b[38;5;28;01mexcept\u001b[39;00m core._NotOkStatusException \u001b[38;5;28;01mas\u001b[39;00m e:\n\u001b[32m     56\u001b[39m   \u001b[38;5;28;01mif\u001b[39;00m name \u001b[38;5;129;01mis\u001b[39;00m \u001b[38;5;129;01mnot\u001b[39;00m \u001b[38;5;28;01mNone\u001b[39;00m:\n",
      "\u001b[31mKeyboardInterrupt\u001b[39m: "
     ]
    }
   ],
   "source": [
    "# Fase 3 - Passo 3\n",
    "\n",
    "from tensorflow.keras.callbacks import EarlyStopping, ModelCheckpoint\n",
    "\n",
    "# Callbacks\n",
    "callbacks = [\n",
    "    EarlyStopping(monitor='val_loss', patience=20, restore_best_weights=True),\n",
    "    ModelCheckpoint(\"best_model.h5\", save_best_only=True)\n",
    "]\n",
    "\n",
    "# Treino\n",
    "history = model.fit(\n",
    "    train_dataset,\n",
    "    validation_data=val_dataset,\n",
    "    epochs=60,\n",
    "    callbacks=callbacks\n",
    ")"
   ]
  },
  {
   "cell_type": "code",
   "execution_count": null,
   "metadata": {},
   "outputs": [
    {
     "data": {
      "image/png": "[encoded data removed]",
      "text/plain": [
       "<Figure size 1400x500 with 2 Axes>"
      ]
     },
     "metadata": {},
     "output_type": "display_data"
    }
   ],
   "source": [
    "import matplotlib.pyplot as plt\n",
    "\n",
    "# A variável 'history' deve vir de:\n",
    "# history = model.fit(...)\n",
    "\n",
    "# Obtemos o histórico dos valores de loss e accuracy\n",
    "acc = history.history['accuracy']\n",
    "val_acc = history.history['val_accuracy']\n",
    "loss = history.history['loss']\n",
    "val_loss = history.history['val_loss']\n",
    "epochs_range = range(1, len(acc) + 1)\n",
    "\n",
    "# Criar os gráficos\n",
    "plt.figure(figsize=(14, 5))\n",
    "\n",
    "# Accuracy\n",
    "plt.subplot(1, 2, 1)\n",
    "plt.plot(epochs_range, acc, label='Train Accuracy')\n",
    "plt.plot(epochs_range, val_acc, label='Val Accuracy')\n",
    "plt.title('Accuracy por Epoch')\n",
    "plt.xlabel('Epoch')\n",
    "plt.ylabel('Accuracy')\n",
    "plt.legend()\n",
    "\n",
    "# Loss\n",
    "plt.subplot(1, 2, 2)\n",
    "plt.plot(epochs_range, loss, label='Train Loss')\n",
    "plt.plot(epochs_range, val_loss, label='Val Loss')\n",
    "plt.title('Loss por Epoch')\n",
    "plt.xlabel('Epoch')\n",
    "plt.ylabel('Loss')\n",
    "plt.legend()\n",
    "\n",
    "plt.tight_layout()\n",
    "plt.show()\n"
   ]
  },
  {
   "cell_type": "code",
   "execution_count": null,
   "metadata": {},
   "outputs": [
    {
     "name": "stdout",
     "output_type": "stream",
     "text": [
      "\u001b[1m56/56\u001b[0m \u001b[32m━━━━━━━━━━━━━━━━━━━━\u001b[0m\u001b[37m\u001b[0m \u001b[1m19s\u001b[0m 337ms/step - accuracy: 0.0241 - loss: 5.0592\n",
      "Test accuracy: 0.0251\n"
     ]
    }
   ],
   "source": [
    "# Fase 3 - Passo 3\n",
    "\n",
    "# Avaliação final\n",
    "test_loss, test_acc = model.evaluate(test_dataset)\n",
    "print(f\"Test accuracy: {test_acc:.4f}\")"
   ]
  },
  {
   "cell_type": "code",
   "execution_count": null,
   "metadata": {},
   "outputs": [
    {
     "name": "stdout",
     "output_type": "stream",
     "text": [
      "\u001b[1m56/56\u001b[0m \u001b[32m━━━━━━━━━━━━━━━━━━━━\u001b[0m\u001b[37m\u001b[0m \u001b[1m18s\u001b[0m 319ms/step - accuracy: 0.0241 - loss: 5.0592\n",
      "\n",
      "📊 Avaliação no conjunto de teste:\n",
      "accuracy: 0.0251\n",
      "loss: 5.0374\n"
     ]
    }
   ],
   "source": [
    "test_dataset = prepare_dataset(test_df)\n",
    "\n",
    "# Avaliação no conjunto de teste\n",
    "results = model.evaluate(\n",
    "    test_dataset,\n",
    "    return_dict=True,\n",
    "    verbose=1  # mostra progresso\n",
    ")\n",
    "\n",
    "# Mostrar resultados\n",
    "print(\"\\n📊 Avaliação no conjunto de teste:\")\n",
    "for metric, value in results.items():\n",
    "    print(f\"{metric}: {value:.4f}\")\n"
   ]
  },
  {
   "cell_type": "markdown",
   "metadata": {},
   "source": [
    "# TESTES"
   ]
  },
  {
   "cell_type": "code",
   "execution_count": null,
   "metadata": {},
   "outputs": [],
   "source": [
    "from pathlib import Path\n",
    "\n",
    "# Filtrar apenas imagens existentes\n",
    "for df_name, df in zip(['train_df', 'val_df', 'test_df'], [train_df, val_df, test_df]):\n",
    "    df = df[df['absolute_path'].apply(lambda x: Path(x).exists())].reset_index(drop=True)\n",
    "    globals()[df_name] = df  # Atualiza a variável no namespace global"
   ]
  },
  {
   "cell_type": "code",
   "execution_count": null,
   "metadata": {},
   "outputs": [
    {
     "name": "stdout",
     "output_type": "stream",
     "text": [
      "🔍 Treino:\n",
      "  Total de imagens:       8362\n",
      "  Caminhos válidos:       8362\n",
      "  Caminhos inválidos:     0\n",
      "----------------------------------------\n",
      "🔍 Validação:\n",
      "  Total de imagens:       1792\n",
      "  Caminhos válidos:       1792\n",
      "  Caminhos inválidos:     0\n",
      "----------------------------------------\n",
      "🔍 Teste:\n",
      "  Total de imagens:       1792\n",
      "  Caminhos válidos:       1792\n",
      "  Caminhos inválidos:     0\n",
      "----------------------------------------\n"
     ]
    }
   ],
   "source": [
    "from pathlib import Path\n",
    "\n",
    "# Função para verificar imagens existentes\n",
    "def verificar_caminhos(df, nome_split):\n",
    "    total = len(df)\n",
    "    caminhos_validos = df['absolute_path'].apply(lambda x: Path(x).exists())\n",
    "    num_validos = caminhos_validos.sum()\n",
    "    num_invalidos = total - num_validos\n",
    "\n",
    "    print(f\"🔍 {nome_split}:\")\n",
    "    print(f\"  Total de imagens:       {total}\")\n",
    "    print(f\"  Caminhos válidos:       {num_validos}\")\n",
    "    print(f\"  Caminhos inválidos:     {num_invalidos}\")\n",
    "    print(\"-\" * 40)\n",
    "\n",
    "# Verificar cada split\n",
    "verificar_caminhos(train_df, \"Treino\")\n",
    "verificar_caminhos(val_df, \"Validação\")\n",
    "verificar_caminhos(test_df, \"Teste\")\n"
   ]
  },
  {
   "cell_type": "code",
   "execution_count": null,
   "metadata": {},
   "outputs": [
    {
     "name": "stdout",
     "output_type": "stream",
     "text": [
      "📂 Total de imagens existentes no disco: 11946\n",
      "🗂️  Total de caminhos na metadata (todos os splits): 11946\n",
      "==================================================\n",
      "🔍 Treino:\n",
      "  Total de caminhos na metadata:    8362\n",
      "  Caminhos válidos (existem):       8362\n",
      "  Caminhos inválidos (faltam):      0\n",
      "----------------------------------------\n",
      "🔍 Validação:\n",
      "  Total de caminhos na metadata:    1792\n",
      "  Caminhos válidos (existem):       1792\n",
      "  Caminhos inválidos (faltam):      0\n",
      "----------------------------------------\n",
      "🔍 Teste:\n",
      "  Total de caminhos na metadata:    1792\n",
      "  Caminhos válidos (existem):       1792\n",
      "  Caminhos inválidos (faltam):      0\n",
      "----------------------------------------\n"
     ]
    }
   ],
   "source": [
    "from pathlib import Path\n",
    "\n",
    "# Caminho base das imagens\n",
    "base_dir = Path('C:/Users/luisp/OneDrive/Mestrado/1ano/2sem/Deep Learning (DL)/Project/rare_species 1')\n",
    "\n",
    "# Função para contar imagens nas pastas físicas (disco)\n",
    "def contar_imagens_pasta(base_path):\n",
    "    return len(list(base_path.glob(\"*/*.jpg\")))  # procura .jpg nas subpastas\n",
    "\n",
    "# Função para verificar caminhos válidos na metadata\n",
    "def verificar_caminhos(df, nome_split):\n",
    "    total_metadata = len(df)\n",
    "    caminhos_validos = df['absolute_path'].apply(lambda x: Path(x).exists())\n",
    "    num_validos = caminhos_validos.sum()\n",
    "    num_invalidos = total_metadata - num_validos\n",
    "\n",
    "    print(f\"🔍 {nome_split}:\")\n",
    "    print(f\"  Total de caminhos na metadata:    {total_metadata}\")\n",
    "    print(f\"  Caminhos válidos (existem):       {num_validos}\")\n",
    "    print(f\"  Caminhos inválidos (faltam):      {num_invalidos}\")\n",
    "    print(\"-\" * 40)\n",
    "\n",
    "# 📦 Totais globais\n",
    "total_imagens_disco = contar_imagens_pasta(base_dir)\n",
    "total_metadata_global = len(train_df) + len(val_df) + len(test_df)\n",
    "\n",
    "print(f\"📂 Total de imagens existentes no disco: {total_imagens_disco}\")\n",
    "print(f\"🗂️  Total de caminhos na metadata (todos os splits): {total_metadata_global}\")\n",
    "print(\"=\" * 50)\n",
    "\n",
    "# Verificar os splits\n",
    "verificar_caminhos(train_df, \"Treino\")\n",
    "verificar_caminhos(val_df, \"Validação\")\n",
    "verificar_caminhos(test_df, \"Teste\")"
   ]
  },
  {
   "cell_type": "code",
   "execution_count": null,
   "metadata": {},
   "outputs": [
    {
     "name": "stdout",
     "output_type": "stream",
     "text": [
      "🔁 Treino:\n",
      "  Caminhos duplicados: 0\n",
      "----------------------------------------\n",
      "🔁 Validação:\n",
      "  Caminhos duplicados: 0\n",
      "----------------------------------------\n",
      "🔁 Teste:\n",
      "  Caminhos duplicados: 0\n",
      "----------------------------------------\n"
     ]
    }
   ],
   "source": [
    "def verificar_caminhos_duplicados(df, nome_split):\n",
    "    duplicados = df[df.duplicated(subset='absolute_path', keep=False)]\n",
    "    num_duplicados = len(duplicados)\n",
    "\n",
    "    print(f\"🔁 {nome_split}:\")\n",
    "    print(f\"  Caminhos duplicados: {num_duplicados}\")\n",
    "    if num_duplicados > 0:\n",
    "        print(\"  Exemplos:\")\n",
    "        print(duplicados[['absolute_path', 'label_encoded']].head())\n",
    "    print(\"-\" * 40)\n",
    "\n",
    "verificar_caminhos_duplicados(train_df, \"Treino\")\n",
    "verificar_caminhos_duplicados(val_df, \"Validação\")\n",
    "verificar_caminhos_duplicados(test_df, \"Teste\")\n"
   ]
  }
 ],
 "metadata": {
  "kernelspec": {
   "display_name": "dl_env",
   "language": "python",
   "name": "python3"
  },
  "language_info": {
   "codemirror_mode": {
    "name": "ipython",
    "version": 3
   },
   "file_extension": ".py",
   "mimetype": "text/x-python",
   "name": "python",
   "nbconvert_exporter": "python",
   "pygments_lexer": "ipython3",
   "version": "3.11.9"
  }
 },
 "nbformat": 4,
 "nbformat_minor": 2
}
